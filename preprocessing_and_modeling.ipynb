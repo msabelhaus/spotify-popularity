{
 "cells": [
  {
   "cell_type": "code",
   "execution_count": 2,
   "metadata": {},
   "outputs": [],
   "source": [
    "%matplotlib inline\n",
    " \n",
    "import numpy as np\n",
    "import pandas as pd\n",
    "import sklearn as sk\n",
    " \n",
    "import matplotlib.pyplot as plt\n",
    "import seaborn as sns\n",
    "\n",
    "from sklearn.model_selection import train_test_split\n",
    "from sklearn.metrics import accuracy_score, confusion_matrix, classification_report, plot_confusion_matrix\n",
    "from sklearn.neighbors import KNeighborsClassifier\n",
    "from sklearn.linear_model import LogisticRegression\n",
    "from sklearn.tree import DecisionTreeClassifier\n",
    "from sklearn.tree import export_graphviz # needed to visualize trained decision tree"
   ]
  },
  {
   "cell_type": "markdown",
   "metadata": {},
   "source": [
    "We begin with reading in our data and doing some initial cleaning."
   ]
  },
  {
   "cell_type": "code",
   "execution_count": 3,
   "metadata": {},
   "outputs": [
    {
     "data": {
      "text/plain": [
       "(26711, 19)"
      ]
     },
     "execution_count": 3,
     "metadata": {},
     "output_type": "execute_result"
    }
   ],
   "source": [
    "# Read in data\n",
    "data = pd.read_csv('data.csv')\n",
    "\n",
    "# Filter out new data\n",
    "data_current = data[data.year >= 2010]\n",
    "\n",
    "# Remove duplicate values based on id\n",
    "data_current = data_current.drop_duplicates(subset=['id'],keep='first',inplace=False)\n",
    "data_current.shape # shape matches what we have in R; we're good here."
   ]
  },
  {
   "cell_type": "code",
   "execution_count": 4,
   "metadata": {},
   "outputs": [],
   "source": [
    "# Creating a new popularity dummy variable\n",
    "def groups(series):\n",
    "    if 75 <= series <= 100:\n",
    "        return 2\n",
    "    elif 25 <= series < 75:\n",
    "        return 1\n",
    "    elif series < 25:\n",
    "        return 0\n",
    "data_current['popDummy'] = data_current['popularity'].apply(groups)\n",
    "\n",
    "# Converting duration_ms to seconds\n",
    "data_current['duration_s'] = data_current['duration_ms']*.001\n",
    "\n",
    "# Recoding year variable\n",
    "def groups(series):\n",
    "    if series == 2010:\n",
    "        return 0\n",
    "    elif series == 2011:\n",
    "        return 1\n",
    "    elif series == 2012:\n",
    "        return 2\n",
    "    elif series == 2013:\n",
    "        return 3\n",
    "    elif series == 2014:\n",
    "        return 4\n",
    "    elif series == 2015:\n",
    "        return 5\n",
    "    elif series == 2016:\n",
    "        return 6\n",
    "    elif series == 2017:\n",
    "        return 7\n",
    "    elif series == 2018:\n",
    "        return 8\n",
    "    elif series == 2019:\n",
    "        return 9\n",
    "    elif series == 2020:\n",
    "        return 10\n",
    "    elif series == 2021:\n",
    "        return 11\n",
    "data_current['year_factor'] = data_current['year'].apply(groups)\n",
    "\n",
    "#list(data_current)\n",
    "#data_current['loudness']"
   ]
  },
  {
   "cell_type": "code",
   "execution_count": 5,
   "metadata": {},
   "outputs": [
    {
     "data": {
      "text/plain": [
       "popDummy            1.000000\n",
       "popularity          0.942463\n",
       "instrumentalness    0.390300\n",
       "explicit            0.331834\n",
       "loudness            0.178684\n",
       "liveness            0.126425\n",
       "duration_ms         0.118033\n",
       "duration_s          0.118033\n",
       "danceability        0.104003\n",
       "energy              0.100440\n",
       "acousticness        0.064767\n",
       "year                0.059366\n",
       "year_factor         0.059366\n",
       "tempo               0.055765\n",
       "speechiness         0.051722\n",
       "valence             0.041528\n",
       "key                 0.030805\n",
       "mode                0.027260\n",
       "Name: popDummy, dtype: float64"
      ]
     },
     "execution_count": 5,
     "metadata": {},
     "output_type": "execute_result"
    }
   ],
   "source": [
    "# Looking at correlation w/ popDummy\n",
    "\n",
    "temp_data = data_current.copy()\n",
    "temp_data.drop(['popularity', 'duration_ms', 'year'],axis = 1, inplace = True)\n",
    "temp = abs(data_current.corr()['popDummy'].sort_values(ascending = False))\n",
    "temp.sort_values(ascending = False)\n"
   ]
  },
  {
   "cell_type": "code",
   "execution_count": 6,
   "metadata": {},
   "outputs": [
    {
     "data": {
      "image/png": "[encoded data removed]",
      "text/plain": [
       "<Figure size 432x288 with 2 Axes>"
      ]
     },
     "metadata": {
      "needs_background": "light"
     },
     "output_type": "display_data"
    }
   ],
   "source": [
    "# Correlation matrix\n",
    "sns.heatmap(abs(temp_data.corr()), cmap = 'rainbow');"
   ]
  },
  {
   "cell_type": "code",
   "execution_count": 7,
   "metadata": {},
   "outputs": [
    {
     "name": "stdout",
     "output_type": "stream",
     "text": [
      "      popDummy  instrumentalness  explicit  loudness  duration_s  liveness  \\\n",
      "9087         1          0.000000         0   -17.796     187.333    0.9040   \n",
      "9091         1          0.000005         0   -18.168     236.800    0.6830   \n",
      "9111         0          0.000022         0   -14.118     313.093    0.7980   \n",
      "9117         0          0.000162         0   -15.533     295.093    0.0986   \n",
      "9119         0          0.000015         0   -14.087     183.440    0.1470   \n",
      "\n",
      "      danceability  year_factor  \n",
      "9087         0.319            8  \n",
      "9091         0.269            8  \n",
      "9111         0.644           10  \n",
      "9117         0.627           10  \n",
      "9119         0.581           10  \n"
     ]
    }
   ],
   "source": [
    "# Subsetting our data to use for model--let's call this 'spotify'\n",
    "spotify = data_current[['popDummy','instrumentalness','explicit','loudness','duration_s','liveness','danceability','year_factor']]\n",
    "\n",
    "# We're going to only use data from 2010-2021, and predict 2021.\n",
    "spotify_new = spotify[spotify.year_factor == 11]\n",
    "spotify = spotify[spotify.year_factor < 11]\n",
    "\n",
    "# Just a quick look-through to make sure the data is good\n",
    "print(spotify.head())"
   ]
  },
  {
   "cell_type": "code",
   "execution_count": 8,
   "metadata": {},
   "outputs": [
    {
     "name": "stdout",
     "output_type": "stream",
     "text": [
      "['popDummy', 'instrumentalness', 'explicit', 'loudness', 'duration_s', 'liveness', 'danceability', 'year_factor']\n"
     ]
    }
   ],
   "source": [
    "print(list(spotify.columns))"
   ]
  },
  {
   "cell_type": "code",
   "execution_count": 9,
   "metadata": {},
   "outputs": [
    {
     "name": "stdout",
     "output_type": "stream",
     "text": [
      "<class 'pandas.core.frame.DataFrame'>\n",
      "Int64Index: 25318 entries, 9087 to 174188\n",
      "Data columns (total 8 columns):\n",
      " #   Column            Non-Null Count  Dtype  \n",
      "---  ------            --------------  -----  \n",
      " 0   popDummy          25318 non-null  int64  \n",
      " 1   instrumentalness  25318 non-null  float64\n",
      " 2   explicit          25318 non-null  int64  \n",
      " 3   loudness          25318 non-null  float64\n",
      " 4   duration_s        25318 non-null  float64\n",
      " 5   liveness          25318 non-null  float64\n",
      " 6   danceability      25318 non-null  float64\n",
      " 7   year_factor       25318 non-null  int64  \n",
      "dtypes: float64(5), int64(3)\n",
      "memory usage: 1.7 MB\n",
      "None\n"
     ]
    }
   ],
   "source": [
    "print(spotify.info())"
   ]
  },
  {
   "cell_type": "markdown",
   "metadata": {},
   "source": [
    "MODEL SELECTION"
   ]
  },
  {
   "cell_type": "code",
   "execution_count": 10,
   "metadata": {},
   "outputs": [
    {
     "data": {
      "text/plain": [
       "5064"
      ]
     },
     "execution_count": 10,
     "metadata": {},
     "output_type": "execute_result"
    }
   ],
   "source": [
    "train, test = train_test_split(spotify, test_size = 0.2, random_state = 123)\n",
    "\n",
    "# Creating dataframes for the training/test inputs/target\n",
    "train_X = train.drop(['popDummy'], axis=1)\n",
    "train_Y = train[\"popDummy\"]\n",
    "test_X = test.drop(['popDummy'], axis=1)\n",
    "test_Y = test[\"popDummy\"]\n",
    "\n",
    "test_Y.size"
   ]
  },
  {
   "cell_type": "code",
   "execution_count": 11,
   "metadata": {},
   "outputs": [
    {
     "name": "stdout",
     "output_type": "stream",
     "text": [
      "<class 'pandas.core.frame.DataFrame'>\n",
      "Int64Index: 20254 entries, 75235 to 142971\n",
      "Data columns (total 7 columns):\n",
      " #   Column            Non-Null Count  Dtype  \n",
      "---  ------            --------------  -----  \n",
      " 0   instrumentalness  20254 non-null  float64\n",
      " 1   explicit          20254 non-null  int64  \n",
      " 2   loudness          20254 non-null  float64\n",
      " 3   duration_s        20254 non-null  float64\n",
      " 4   liveness          20254 non-null  float64\n",
      " 5   danceability      20254 non-null  float64\n",
      " 6   year_factor       20254 non-null  int64  \n",
      "dtypes: float64(5), int64(2)\n",
      "memory usage: 1.2 MB\n"
     ]
    }
   ],
   "source": [
    "train_X.info()"
   ]
  },
  {
   "cell_type": "markdown",
   "metadata": {},
   "source": [
    "1. Multinomial logisitic regression"
   ]
  },
  {
   "cell_type": "code",
   "execution_count": 12,
   "metadata": {},
   "outputs": [
    {
     "name": "stderr",
     "output_type": "stream",
     "text": [
      "/Users/margaretsabelhaus/opt/anaconda3/lib/python3.8/site-packages/sklearn/linear_model/_logistic.py:763: ConvergenceWarning: lbfgs failed to converge (status=1):\n",
      "STOP: TOTAL NO. of ITERATIONS REACHED LIMIT.\n",
      "\n",
      "Increase the number of iterations (max_iter) or scale the data as shown in:\n",
      "    https://scikit-learn.org/stable/modules/preprocessing.html\n",
      "Please also refer to the documentation for alternative solver options:\n",
      "    https://scikit-learn.org/stable/modules/linear_model.html#logistic-regression\n",
      "  n_iter_i = _check_optimize_result(\n"
     ]
    }
   ],
   "source": [
    "# Declare model\n",
    "lr_model = LogisticRegression()\n",
    "\n",
    "# Fitting model on training data\n",
    "lr_model.fit(train_X,train_Y)\n",
    "\n",
    "# Printing our our predicted values\n",
    "Y_hat = lr_model.predict(test_X)\n",
    "#with np.printoptions(threshold=np.inf):\n",
    "#    print(Y_hat)"
   ]
  },
  {
   "cell_type": "code",
   "execution_count": 13,
   "metadata": {},
   "outputs": [
    {
     "name": "stdout",
     "output_type": "stream",
     "text": [
      "[[2261  558    6]\n",
      " [ 739 1215    6]\n",
      " [ 149  128    2]]\n"
     ]
    }
   ],
   "source": [
    "# confusion matrix\n",
    "conf_matrix = confusion_matrix(test_Y,Y_hat)\n",
    "print(conf_matrix)"
   ]
  },
  {
   "cell_type": "code",
   "execution_count": 14,
   "metadata": {},
   "outputs": [
    {
     "data": {
      "text/plain": [
       "<sklearn.metrics._plot.confusion_matrix.ConfusionMatrixDisplay at 0x126a04040>"
      ]
     },
     "execution_count": 14,
     "metadata": {},
     "output_type": "execute_result"
    },
    {
     "data": {
      "image/png": "[encoded data removed]",
      "text/plain": [
       "<Figure size 432x288 with 2 Axes>"
      ]
     },
     "metadata": {
      "needs_background": "light"
     },
     "output_type": "display_data"
    }
   ],
   "source": [
    "plot_confusion_matrix(lr_model, test_X, test_Y)"
   ]
  },
  {
   "cell_type": "code",
   "execution_count": 15,
   "metadata": {},
   "outputs": [
    {
     "name": "stdout",
     "output_type": "stream",
     "text": [
      "              precision    recall  f1-score   support\n",
      "\n",
      "           0       0.80      0.72      0.76      3149\n",
      "           1       0.62      0.64      0.63      1901\n",
      "           2       0.01      0.14      0.01        14\n",
      "\n",
      "    accuracy                           0.69      5064\n",
      "   macro avg       0.48      0.50      0.47      5064\n",
      "weighted avg       0.73      0.69      0.71      5064\n",
      "\n"
     ]
    }
   ],
   "source": [
    "# classification report\n",
    "print(classification_report(Y_hat,test_Y))\n",
    "# warning; most likely due to all predictions being 0"
   ]
  },
  {
   "cell_type": "code",
   "execution_count": 16,
   "metadata": {},
   "outputs": [
    {
     "name": "stdout",
     "output_type": "stream",
     "text": [
      "0.6868088467614534\n"
     ]
    }
   ],
   "source": [
    "# accuracy measure\n",
    "print(accuracy_score(Y_hat,test_Y))"
   ]
  },
  {
   "cell_type": "markdown",
   "metadata": {},
   "source": [
    "2. kNN "
   ]
  },
  {
   "cell_type": "code",
   "execution_count": 17,
   "metadata": {},
   "outputs": [
    {
     "name": "stdout",
     "output_type": "stream",
     "text": [
      "0.691350710900474 18\n"
     ]
    }
   ],
   "source": [
    "# First find the optimal # of neighbors\n",
    "scores = []\n",
    "for i in range(1, 30):\n",
    "    knn_model = KNeighborsClassifier(n_neighbors = i)\n",
    "    knn_model.fit(train_X, train_Y)\n",
    "    y_model = knn_model.predict(test_X)\n",
    "    scores.append(accuracy_score(test_Y, y_model))\n",
    "    \n",
    "max_val = max(scores)\n",
    "print(max_val, scores.index(max_val))"
   ]
  },
  {
   "cell_type": "code",
   "execution_count": 18,
   "metadata": {},
   "outputs": [],
   "source": [
    "k = scores.index(max_val)\n",
    "\n",
    "# Create model object\n",
    "knn_model = KNeighborsClassifier(k)\n",
    "\n",
    "# Train model\n",
    "knn_model.fit(train_X, train_Y)\n",
    "\n",
    "# Test model\n",
    "Y_hat = knn_model.predict(test_X)\n",
    "\n",
    "# Printing our our predicted values\n",
    "#with np.printoptions(threshold=np.inf):\n",
    "#    print(Y_hat)"
   ]
  },
  {
   "cell_type": "code",
   "execution_count": 19,
   "metadata": {
    "scrolled": false
   },
   "outputs": [
    {
     "name": "stdout",
     "output_type": "stream",
     "text": [
      "[[2249  555   21]\n",
      " [ 741 1200   19]\n",
      " [ 138  122   19]]\n"
     ]
    }
   ],
   "source": [
    "# confusion matrix\n",
    "conf_matrix = confusion_matrix(test_Y, Y_hat)\n",
    "print(conf_matrix)"
   ]
  },
  {
   "cell_type": "code",
   "execution_count": 20,
   "metadata": {},
   "outputs": [
    {
     "data": {
      "text/plain": [
       "<sklearn.metrics._plot.confusion_matrix.ConfusionMatrixDisplay at 0x12914f400>"
      ]
     },
     "execution_count": 20,
     "metadata": {},
     "output_type": "execute_result"
    },
    {
     "data": {
      "image/png": "[encoded data removed]",
      "text/plain": [
       "<Figure size 432x288 with 2 Axes>"
      ]
     },
     "metadata": {
      "needs_background": "light"
     },
     "output_type": "display_data"
    }
   ],
   "source": [
    "plot_confusion_matrix(knn_model, test_X, test_Y)"
   ]
  },
  {
   "cell_type": "code",
   "execution_count": 21,
   "metadata": {},
   "outputs": [
    {
     "name": "stdout",
     "output_type": "stream",
     "text": [
      "              precision    recall  f1-score   support\n",
      "\n",
      "           0       0.72      0.80      0.76      2825\n",
      "           1       0.64      0.61      0.63      1960\n",
      "           2       0.32      0.07      0.11       279\n",
      "\n",
      "    accuracy                           0.68      5064\n",
      "   macro avg       0.56      0.49      0.50      5064\n",
      "weighted avg       0.67      0.68      0.67      5064\n",
      "\n"
     ]
    }
   ],
   "source": [
    "# classification report\n",
    "print(classification_report(test_Y, Y_hat))"
   ]
  },
  {
   "cell_type": "code",
   "execution_count": 22,
   "metadata": {},
   "outputs": [
    {
     "name": "stdout",
     "output_type": "stream",
     "text": [
      "Accuracy:  0.6848341232227488\n"
     ]
    }
   ],
   "source": [
    "# accuracy measure\n",
    "print(\"Accuracy: \", accuracy_score(test_Y,Y_hat))"
   ]
  },
  {
   "cell_type": "markdown",
   "metadata": {},
   "source": [
    "3. Classification tree"
   ]
  },
  {
   "cell_type": "code",
   "execution_count": 23,
   "metadata": {},
   "outputs": [
    {
     "name": "stdout",
     "output_type": "stream",
     "text": [
      "Best accuracy score is 0.746, for max_depth=10\n"
     ]
    }
   ],
   "source": [
    "## Let's train models over a range of depths, and score them with the test set\n",
    "from sklearn.metrics import f1_score\n",
    "\n",
    "acc_scores = [] # accuracy scores\n",
    "f1_scores = [] # F1-scores\n",
    "max_max = 20 # maximum depth\n",
    "max_depth = np.arange(1, max_max) # range of 1:20 of depths to try\n",
    "\n",
    "for depth in max_depth:\n",
    "    # Build model and train\n",
    "    tree_model = DecisionTreeClassifier(max_depth=depth, random_state=123) # not tuning # samples per leaf. setting random seed\n",
    "    tree_model.fit(train_X, train_Y)\n",
    "\n",
    "    # Test\n",
    "    acc_scores.append(tree_model.score(test_X, test_Y))\n",
    "    y_test_hat = tree_model.predict(test_X)\n",
    "    f1_scores.append(f1_score(test_Y, y_test_hat, average=None))\n",
    "    #^ need to add average parameter to f1-score since this is a multi-class problem\n",
    "\n",
    "# Print values for best test score\n",
    "ix_best = np.argmax(acc_scores)\n",
    "print('Best accuracy score is %0.3f, for max_depth=%d' % (acc_scores[ix_best], max_depth[ix_best]))\n",
    "ix_best = np.argmax(f1_scores)\n",
    "from sklearn.metrics import f1_score\n",
    "\n",
    "acc_scores = [] # accuracy scores\n",
    "f1_scores = [] # F1-scoresprint('Best F1-score is %0.3f, for max_depth=%d' % (f1_scores[ix_best], max_depth[ix_best]))"
   ]
  },
  {
   "cell_type": "code",
   "execution_count": 24,
   "metadata": {},
   "outputs": [],
   "source": [
    "# Classification tree\n",
    "\n",
    "# Declare model w/ depth of best accuracy score\n",
    "tree_model = DecisionTreeClassifier(max_depth=10, random_state=123)\n",
    "\n",
    "# Train model\n",
    "tree_model.fit(train_X, train_Y)\n",
    "\n",
    "# Printing our our predicted values w/ depth of best accuracy score\n",
    "Y_hat = tree_model.predict(test_X)\n",
    "#with np.printoptions(threshold=np.inf):\n",
    "#    print(Y_hat)"
   ]
  },
  {
   "cell_type": "code",
   "execution_count": 25,
   "metadata": {
    "scrolled": true
   },
   "outputs": [
    {
     "name": "stdout",
     "output_type": "stream",
     "text": [
      "[[2319  490   16]\n",
      " [ 507 1428   25]\n",
      " [  90  160   29]]\n"
     ]
    }
   ],
   "source": [
    "# confusion matrix\n",
    "conf_matrix = confusion_matrix(test_Y, Y_hat)\n",
    "print(conf_matrix)"
   ]
  },
  {
   "cell_type": "code",
   "execution_count": 26,
   "metadata": {},
   "outputs": [
    {
     "data": {
      "text/plain": [
       "<sklearn.metrics._plot.confusion_matrix.ConfusionMatrixDisplay at 0x12725a850>"
      ]
     },
     "execution_count": 26,
     "metadata": {},
     "output_type": "execute_result"
    },
    {
     "data": {
      "image/png": "[encoded data removed]",
      "text/plain": [
       "<Figure size 432x288 with 2 Axes>"
      ]
     },
     "metadata": {
      "needs_background": "light"
     },
     "output_type": "display_data"
    }
   ],
   "source": [
    "plot_confusion_matrix(tree_model, test_X, test_Y)"
   ]
  },
  {
   "cell_type": "code",
   "execution_count": 27,
   "metadata": {},
   "outputs": [
    {
     "name": "stdout",
     "output_type": "stream",
     "text": [
      "              precision    recall  f1-score   support\n",
      "\n",
      "           0       0.80      0.82      0.81      2825\n",
      "           1       0.69      0.73      0.71      1960\n",
      "           2       0.41      0.10      0.17       279\n",
      "\n",
      "    accuracy                           0.75      5064\n",
      "   macro avg       0.63      0.55      0.56      5064\n",
      "weighted avg       0.73      0.75      0.73      5064\n",
      "\n"
     ]
    }
   ],
   "source": [
    "# classification report\n",
    "print(classification_report(test_Y, Y_hat))"
   ]
  },
  {
   "cell_type": "code",
   "execution_count": 28,
   "metadata": {},
   "outputs": [
    {
     "name": "stdout",
     "output_type": "stream",
     "text": [
      "Accuracy:  0.7456556082148499\n"
     ]
    }
   ],
   "source": [
    "# accuracy measure\n",
    "print(\"Accuracy: \", accuracy_score(test_Y,Y_hat))"
   ]
  },
  {
   "cell_type": "markdown",
   "metadata": {},
   "source": [
    "Testing our models on 2021 data:"
   ]
  },
  {
   "cell_type": "code",
   "execution_count": 29,
   "metadata": {},
   "outputs": [],
   "source": [
    "X = spotify_new.drop(['popDummy'], axis=1)\n",
    "Y = spotify_new['popDummy']"
   ]
  },
  {
   "cell_type": "code",
   "execution_count": 30,
   "metadata": {},
   "outputs": [],
   "source": [
    "# Logistic regression\n",
    "# Printing our our predicted values\n",
    "Y_hat = lr_model.predict(X)\n",
    "#with np.printoptions(threshold=np.inf):\n",
    "#    print(Y_hat)"
   ]
  },
  {
   "cell_type": "code",
   "execution_count": 31,
   "metadata": {
    "scrolled": true
   },
   "outputs": [
    {
     "name": "stdout",
     "output_type": "stream",
     "text": [
      "[[1070   89   33]\n",
      " [ 131   31   13]\n",
      " [  18    6    2]]\n"
     ]
    }
   ],
   "source": [
    "# confusion matrix\n",
    "conf_matrix = confusion_matrix(Y, Y_hat)\n",
    "print(conf_matrix)"
   ]
  },
  {
   "cell_type": "code",
   "execution_count": 32,
   "metadata": {},
   "outputs": [
    {
     "data": {
      "text/plain": [
       "<sklearn.metrics._plot.confusion_matrix.ConfusionMatrixDisplay at 0x127b78670>"
      ]
     },
     "execution_count": 32,
     "metadata": {},
     "output_type": "execute_result"
    },
    {
     "data": {
      "image/png": "[encoded data removed]",
      "text/plain": [
       "<Figure size 432x288 with 2 Axes>"
      ]
     },
     "metadata": {
      "needs_background": "light"
     },
     "output_type": "display_data"
    }
   ],
   "source": [
    "plot_confusion_matrix(lr_model, X, Y)"
   ]
  },
  {
   "cell_type": "code",
   "execution_count": 33,
   "metadata": {},
   "outputs": [
    {
     "name": "stdout",
     "output_type": "stream",
     "text": [
      "              precision    recall  f1-score   support\n",
      "\n",
      "           0       0.88      0.90      0.89      1192\n",
      "           1       0.25      0.18      0.21       175\n",
      "           2       0.04      0.08      0.05        26\n",
      "\n",
      "    accuracy                           0.79      1393\n",
      "   macro avg       0.39      0.38      0.38      1393\n",
      "weighted avg       0.78      0.79      0.79      1393\n",
      "\n"
     ]
    }
   ],
   "source": [
    "# classification report\n",
    "print(classification_report(Y, Y_hat))"
   ]
  },
  {
   "cell_type": "code",
   "execution_count": 34,
   "metadata": {},
   "outputs": [
    {
     "name": "stdout",
     "output_type": "stream",
     "text": [
      "Accuracy:  0.791816223977028\n"
     ]
    }
   ],
   "source": [
    "# accuracy measure\n",
    "print(\"Accuracy: \", accuracy_score(Y,Y_hat))"
   ]
  },
  {
   "cell_type": "code",
   "execution_count": 35,
   "metadata": {},
   "outputs": [],
   "source": [
    "# kNN, k = 18\n",
    "# Printing our our predicted values\n",
    "Y_hat = knn_model.predict(X)\n",
    "#with np.printoptions(threshold=np.inf):\n",
    "#    print(Y_hat)"
   ]
  },
  {
   "cell_type": "code",
   "execution_count": 36,
   "metadata": {
    "scrolled": true
   },
   "outputs": [
    {
     "name": "stdout",
     "output_type": "stream",
     "text": [
      "[[1024   60  108]\n",
      " [ 126   22   27]\n",
      " [  12    6    8]]\n"
     ]
    }
   ],
   "source": [
    "# confusion matrix\n",
    "conf_matrix = confusion_matrix(Y, Y_hat)\n",
    "print(conf_matrix)"
   ]
  },
  {
   "cell_type": "code",
   "execution_count": 37,
   "metadata": {},
   "outputs": [
    {
     "data": {
      "text/plain": [
       "<sklearn.metrics._plot.confusion_matrix.ConfusionMatrixDisplay at 0x12724e5e0>"
      ]
     },
     "execution_count": 37,
     "metadata": {},
     "output_type": "execute_result"
    },
    {
     "data": {
      "image/png": "[encoded data removed]",
      "text/plain": [
       "<Figure size 432x288 with 2 Axes>"
      ]
     },
     "metadata": {
      "needs_background": "light"
     },
     "output_type": "display_data"
    }
   ],
   "source": [
    "plot_confusion_matrix(knn_model, X, Y)"
   ]
  },
  {
   "cell_type": "code",
   "execution_count": 38,
   "metadata": {},
   "outputs": [
    {
     "name": "stdout",
     "output_type": "stream",
     "text": [
      "              precision    recall  f1-score   support\n",
      "\n",
      "           0       0.88      0.86      0.87      1192\n",
      "           1       0.25      0.13      0.17       175\n",
      "           2       0.06      0.31      0.09        26\n",
      "\n",
      "    accuracy                           0.76      1393\n",
      "   macro avg       0.40      0.43      0.38      1393\n",
      "weighted avg       0.79      0.76      0.77      1393\n",
      "\n"
     ]
    }
   ],
   "source": [
    "# classification report\n",
    "print(classification_report(Y, Y_hat))"
   ]
  },
  {
   "cell_type": "code",
   "execution_count": 39,
   "metadata": {},
   "outputs": [
    {
     "name": "stdout",
     "output_type": "stream",
     "text": [
      "Accuracy:  0.756640344580043\n"
     ]
    }
   ],
   "source": [
    "# accuracy measure\n",
    "print(\"Accuracy: \", accuracy_score(Y,Y_hat))"
   ]
  },
  {
   "cell_type": "code",
   "execution_count": 40,
   "metadata": {
    "scrolled": true
   },
   "outputs": [],
   "source": [
    "# Classification tree\n",
    "\n",
    "Y_hat = tree_model.predict(X)\n",
    "#with np.printoptions(threshold=np.inf):\n",
    "#    print(Y_hat)"
   ]
  },
  {
   "cell_type": "code",
   "execution_count": 41,
   "metadata": {
    "scrolled": true
   },
   "outputs": [
    {
     "name": "stdout",
     "output_type": "stream",
     "text": [
      "[[1038   84   70]\n",
      " [ 128   19   28]\n",
      " [  18    3    5]]\n"
     ]
    }
   ],
   "source": [
    "# confusion matrix\n",
    "conf_matrix = confusion_matrix(Y, Y_hat)\n",
    "print(conf_matrix)"
   ]
  },
  {
   "cell_type": "code",
   "execution_count": 42,
   "metadata": {},
   "outputs": [
    {
     "data": {
      "text/plain": [
       "<sklearn.metrics._plot.confusion_matrix.ConfusionMatrixDisplay at 0x127246490>"
      ]
     },
     "execution_count": 42,
     "metadata": {},
     "output_type": "execute_result"
    },
    {
     "data": {
      "image/png": "[encoded data removed]",
      "text/plain": [
       "<Figure size 432x288 with 2 Axes>"
      ]
     },
     "metadata": {
      "needs_background": "light"
     },
     "output_type": "display_data"
    }
   ],
   "source": [
    "plot_confusion_matrix(tree_model, test_X, test_Y)"
   ]
  },
  {
   "cell_type": "code",
   "execution_count": 43,
   "metadata": {},
   "outputs": [
    {
     "name": "stdout",
     "output_type": "stream",
     "text": [
      "              precision    recall  f1-score   support\n",
      "\n",
      "           0       0.88      0.87      0.87      1192\n",
      "           1       0.18      0.11      0.14       175\n",
      "           2       0.05      0.19      0.08        26\n",
      "\n",
      "    accuracy                           0.76      1393\n",
      "   macro avg       0.37      0.39      0.36      1393\n",
      "weighted avg       0.77      0.76      0.77      1393\n",
      "\n"
     ]
    }
   ],
   "source": [
    "# classification report\n",
    "print(classification_report(Y, Y_hat))"
   ]
  },
  {
   "cell_type": "code",
   "execution_count": 44,
   "metadata": {},
   "outputs": [
    {
     "name": "stdout",
     "output_type": "stream",
     "text": [
      "Accuracy:  0.7623833452979182\n"
     ]
    }
   ],
   "source": [
    "# accuracy measure\n",
    "print(\"Accuracy: \", accuracy_score(Y,Y_hat))"
   ]
  },
  {
   "cell_type": "code",
   "execution_count": null,
   "metadata": {},
   "outputs": [],
   "source": []
  }
 ],
 "metadata": {
  "kernelspec": {
   "display_name": "Python 3 (ipykernel)",
   "language": "python",
   "name": "python3"
  },
  "language_info": {
   "codemirror_mode": {
    "name": "ipython",
    "version": 3
   },
   "file_extension": ".py",
   "mimetype": "text/x-python",
   "name": "python",
   "nbconvert_exporter": "python",
   "pygments_lexer": "ipython3",
   "version": "3.8.12"
  }
 },
 "nbformat": 4,
 "nbformat_minor": 2
}
